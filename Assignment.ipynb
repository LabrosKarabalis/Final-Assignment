{
 "cells": [
  {
   "cell_type": "code",
   "execution_count": 1,
   "metadata": {},
   "outputs": [],
   "source": [
    "import numpy as np, pandas as pd"
   ]
  },
  {
   "cell_type": "code",
   "execution_count": 2,
   "metadata": {},
   "outputs": [],
   "source": [
    "data=pd.DataFrame(pd.read_csv('/home/lampros/Desktop/git/Final-Assignment/Final-Assignment-Answers/booze.csv'))\n",
    "data1=data.copy(True)"
   ]
  },
  {
   "cell_type": "code",
   "execution_count": 3,
   "metadata": {},
   "outputs": [],
   "source": [
    "temp1=data1.get(['zip_code','store_name','category_name','bottles_sold'])"
   ]
  },
  {
   "cell_type": "code",
   "execution_count": 4,
   "metadata": {},
   "outputs": [],
   "source": [
    "temp1=temp1.sort_values(by=['bottles_sold'],ascending=False)"
   ]
  },
  {
   "cell_type": "code",
   "execution_count": 5,
   "metadata": {},
   "outputs": [],
   "source": [
    "per_zip=temp1.drop_duplicates(subset='zip_code')"
   ]
  },
  {
   "cell_type": "code",
   "execution_count": 69,
   "metadata": {},
   "outputs": [],
   "source": [
    "store_total=(temp1.sort_values(by='store_name'))\n",
    "temp2=store_total.set_index('store_name')\n",
    "temp3=store_total.drop_duplicates(subset='store_name');names=temp3.iloc[:,1]\n",
    "dic=pd.DataFrame(columns=['total','percentage'],index=names)\n",
    "for store in names[:]:\n",
    "    a=(temp2.loc[store,'bottles_sold'])\n",
    "    \n",
    "    if type(a)!=pd.Series:\n",
    "        dic.loc[store,'total']=a\n",
    "    else:\n",
    "        dic.loc[store,'total']=sum(a)\n",
    "    #dic.loc[store,'total']=sum(list(temp2.loc[store,'bottles_sold']))\n",
    "dic['percentage']=dic.loc"
   ]
  },
  {
   "cell_type": "code",
   "execution_count": 74,
   "metadata": {},
   "outputs": [],
   "source": [
    "per_zip_new=per_zip.dropna()\n",
    "per_zip_new=per_zip_new.merge(right=dic,left_on='store_name',right_on=dic.index)\n",
    "per_zip_new['percentage']=per_zip_new['bottles_sold']/per_zip_new['total']"
   ]
  }
 ],
 "metadata": {
  "kernelspec": {
   "display_name": "Python 3.10.6 ('dataenv')",
   "language": "python",
   "name": "python3"
  },
  "language_info": {
   "codemirror_mode": {
    "name": "ipython",
    "version": 3
   },
   "file_extension": ".py",
   "mimetype": "text/x-python",
   "name": "python",
   "nbconvert_exporter": "python",
   "pygments_lexer": "ipython3",
   "version": "3.10.6"
  },
  "orig_nbformat": 4,
  "vscode": {
   "interpreter": {
    "hash": "0af086dde17faf73389197b1245c24daca1f51df388fefe03ceaf9f55e6322a1"
   }
  }
 },
 "nbformat": 4,
 "nbformat_minor": 2
}
